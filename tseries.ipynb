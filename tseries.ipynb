{
 "cells": [
  {
   "cell_type": "markdown",
   "id": "cbd99dc7",
   "metadata": {},
   "source": [
    "Time Series Analysis"
   ]
  },
  {
   "cell_type": "code",
   "execution_count": 2,
   "id": "3753b7c7",
   "metadata": {},
   "outputs": [],
   "source": [
    "#importing libraries\n",
    "import pandas as pd\n",
    "import os\n",
    "import yfinance as yf\n",
    "from sqlalchemy import create_engine\n",
    "from datetime import datetime,timedelta"
   ]
  },
  {
   "cell_type": "code",
   "execution_count": null,
   "id": "973777ad",
   "metadata": {},
   "outputs": [],
   "source": [
    "#Database connection String and  Symbols List\n",
    "db_url = \"xxx\"  # Replace with your actual database URL\"\n",
    "symbols = [\"BTC-USD\", \"ETH-USD\", \"SOL-USD\"] #Yahoo finance format"
   ]
  },
  {
   "cell_type": "code",
   "execution_count": 4,
   "id": "ec3abfe7",
   "metadata": {},
   "outputs": [],
   "source": [
    "#Function to fetch Historical Cryptocurrency Data\n",
    "def fetch_crypto_data(symbols, days=5*365):\n",
    "    \"\"\"Fetch historical data for cryptocurrencies\"\"\"\n",
    "    end_date = datetime.now()\n",
    "    start_date = end_date - timedelta(days=days)\n",
    "\n",
    "    data = yf.download(\n",
    "        symbols,\n",
    "        start=start_date.strftime('%Y-%m-%d'),\n",
    "        end=end_date.strftime(  '%Y-%m-%d'),\n",
    "        group_by='ticker',\n",
    "    )\n",
    "    return data"
   ]
  },
  {
   "cell_type": "code",
   "execution_count": 5,
   "id": "1c93cd40",
   "metadata": {},
   "outputs": [
    {
     "name": "stdout",
     "output_type": "stream",
     "text": [
      "Data successfully stored in database\n"
     ]
    }
   ],
   "source": [
    "#Function to Store Data in PostgreSQL\n",
    "def store_data_in_postgres(data, db_url):\n",
    "    \"\"\"Store data in PostgreSQL database\"\"\"\n",
    "    engine = create_engine(db_url)\n",
    "\n",
    "    for symbol in data.columns.levels[0]:\n",
    "        df = data[symbol].copy()\n",
    "        df['symbol'] = symbol.replace('-USD', '')  # Remove '-USD' from symbol\n",
    "        df.reset_index(inplace=True)\n",
    "        df.to_sql(\n",
    "            'crypto_prices',\n",
    "            engine,\n",
    "            if_exists='append',\n",
    "            index=False,\n",
    "            schema='crypto'\n",
    "        )\n",
    "print(\"Data successfully stored in database\")"
   ]
  },
  {
   "cell_type": "code",
   "execution_count": 6,
   "id": "48547c50",
   "metadata": {},
   "outputs": [],
   "source": [
    "# Main Function to Execute the Workflow\n",
    "def main():\n",
    "    #Fetch data\n",
    "    crypto_data = fetch_crypto_data(symbols)\n",
    "    #Store in database\n",
    "    store_data_in_postgres(crypto_data, db_url)"
   ]
  },
  {
   "cell_type": "code",
   "execution_count": 7,
   "id": "9cbf4d67",
   "metadata": {},
   "outputs": [
    {
     "name": "stderr",
     "output_type": "stream",
     "text": [
      "C:\\Users\\HomePC\\AppData\\Local\\Temp\\ipykernel_18928\\2843943123.py:7: FutureWarning: YF.download() has changed argument auto_adjust default to True\n",
      "  data = yf.download(\n",
      "[*********************100%***********************]  3 of 3 completed\n"
     ]
    }
   ],
   "source": [
    "# Script Execution Guard\n",
    "if __name__ == \"__main__\":\n",
    "    main()"
   ]
  }
 ],
 "metadata": {
  "kernelspec": {
   "display_name": "Python 3",
   "language": "python",
   "name": "python3"
  },
  "language_info": {
   "codemirror_mode": {
    "name": "ipython",
    "version": 3
   },
   "file_extension": ".py",
   "mimetype": "text/x-python",
   "name": "python",
   "nbconvert_exporter": "python",
   "pygments_lexer": "ipython3",
   "version": "3.12.10"
  }
 },
 "nbformat": 4,
 "nbformat_minor": 5
}
